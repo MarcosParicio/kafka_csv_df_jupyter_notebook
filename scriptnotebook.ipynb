{
 "cells": [
  {
   "cell_type": "markdown",
   "metadata": {},
   "source": [
    "Importar Librerías"
   ]
  },
  {
   "cell_type": "code",
   "execution_count": 1,
   "metadata": {},
   "outputs": [],
   "source": [
    "from confluent_kafka import Producer, Consumer\n",
    "import random\n",
    "import pandas as pd"
   ]
  },
  {
   "cell_type": "markdown",
   "metadata": {},
   "source": [
    "Productor"
   ]
  },
  {
   "cell_type": "code",
   "execution_count": 2,
   "metadata": {},
   "outputs": [
    {
     "data": {
      "text/plain": [
       "0"
      ]
     },
     "execution_count": 2,
     "metadata": {},
     "output_type": "execute_result"
    }
   ],
   "source": [
    "p = Producer({'bootstrap.servers': 'localhost:9092'})\n",
    "\n",
    "for i in range(100):\n",
    "    data_producer = {'num_aleatorio': random.randint(1, 10)}\n",
    "    p.produce('testtopic', str(data_producer))\n",
    "\n",
    "p.flush()"
   ]
  },
  {
   "cell_type": "markdown",
   "metadata": {},
   "source": [
    "Consumidor"
   ]
  },
  {
   "cell_type": "code",
   "execution_count": 3,
   "metadata": {},
   "outputs": [
    {
     "name": "stdout",
     "output_type": "stream",
     "text": [
      "No hay ningún mensaje\n",
      "No hay ningún mensaje\n",
      "No hay ningún mensaje\n",
      "El mensaje recibido es: {'num_aleatorio': 7}\n",
      "El mensaje recibido es: {'num_aleatorio': 8}\n",
      "El mensaje recibido es: {'num_aleatorio': 2}\n",
      "El mensaje recibido es: {'num_aleatorio': 6}\n",
      "El mensaje recibido es: {'num_aleatorio': 4}\n",
      "El mensaje recibido es: {'num_aleatorio': 9}\n",
      "El mensaje recibido es: {'num_aleatorio': 7}\n",
      "El mensaje recibido es: {'num_aleatorio': 6}\n",
      "El mensaje recibido es: {'num_aleatorio': 5}\n",
      "El mensaje recibido es: {'num_aleatorio': 9}\n",
      "El mensaje recibido es: {'num_aleatorio': 6}\n",
      "El mensaje recibido es: {'num_aleatorio': 3}\n",
      "El mensaje recibido es: {'num_aleatorio': 5}\n",
      "El mensaje recibido es: {'num_aleatorio': 7}\n",
      "El mensaje recibido es: {'num_aleatorio': 8}\n",
      "El mensaje recibido es: {'num_aleatorio': 6}\n",
      "El mensaje recibido es: {'num_aleatorio': 1}\n",
      "El mensaje recibido es: {'num_aleatorio': 8}\n",
      "El mensaje recibido es: {'num_aleatorio': 5}\n",
      "El mensaje recibido es: {'num_aleatorio': 4}\n",
      "El mensaje recibido es: {'num_aleatorio': 5}\n",
      "El mensaje recibido es: {'num_aleatorio': 7}\n",
      "El mensaje recibido es: {'num_aleatorio': 4}\n",
      "El mensaje recibido es: {'num_aleatorio': 9}\n",
      "El mensaje recibido es: {'num_aleatorio': 2}\n",
      "El mensaje recibido es: {'num_aleatorio': 8}\n",
      "El mensaje recibido es: {'num_aleatorio': 9}\n",
      "El mensaje recibido es: {'num_aleatorio': 10}\n",
      "El mensaje recibido es: {'num_aleatorio': 1}\n",
      "El mensaje recibido es: {'num_aleatorio': 5}\n",
      "El mensaje recibido es: {'num_aleatorio': 8}\n",
      "El mensaje recibido es: {'num_aleatorio': 2}\n",
      "El mensaje recibido es: {'num_aleatorio': 6}\n",
      "El mensaje recibido es: {'num_aleatorio': 2}\n",
      "El mensaje recibido es: {'num_aleatorio': 10}\n",
      "El mensaje recibido es: {'num_aleatorio': 10}\n",
      "El mensaje recibido es: {'num_aleatorio': 5}\n",
      "El mensaje recibido es: {'num_aleatorio': 9}\n",
      "El mensaje recibido es: {'num_aleatorio': 7}\n",
      "El mensaje recibido es: {'num_aleatorio': 6}\n",
      "El mensaje recibido es: {'num_aleatorio': 1}\n",
      "El mensaje recibido es: {'num_aleatorio': 3}\n",
      "El mensaje recibido es: {'num_aleatorio': 9}\n",
      "El mensaje recibido es: {'num_aleatorio': 8}\n",
      "El mensaje recibido es: {'num_aleatorio': 7}\n",
      "El mensaje recibido es: {'num_aleatorio': 6}\n",
      "El mensaje recibido es: {'num_aleatorio': 1}\n",
      "El mensaje recibido es: {'num_aleatorio': 6}\n",
      "El mensaje recibido es: {'num_aleatorio': 8}\n",
      "El mensaje recibido es: {'num_aleatorio': 4}\n",
      "El mensaje recibido es: {'num_aleatorio': 8}\n",
      "El mensaje recibido es: {'num_aleatorio': 10}\n",
      "El mensaje recibido es: {'num_aleatorio': 10}\n",
      "El mensaje recibido es: {'num_aleatorio': 4}\n",
      "El mensaje recibido es: {'num_aleatorio': 2}\n",
      "El mensaje recibido es: {'num_aleatorio': 9}\n",
      "El mensaje recibido es: {'num_aleatorio': 5}\n",
      "El mensaje recibido es: {'num_aleatorio': 9}\n",
      "El mensaje recibido es: {'num_aleatorio': 2}\n",
      "El mensaje recibido es: {'num_aleatorio': 1}\n",
      "El mensaje recibido es: {'num_aleatorio': 4}\n",
      "El mensaje recibido es: {'num_aleatorio': 9}\n",
      "El mensaje recibido es: {'num_aleatorio': 5}\n",
      "El mensaje recibido es: {'num_aleatorio': 5}\n",
      "El mensaje recibido es: {'num_aleatorio': 2}\n",
      "El mensaje recibido es: {'num_aleatorio': 4}\n",
      "El mensaje recibido es: {'num_aleatorio': 1}\n",
      "El mensaje recibido es: {'num_aleatorio': 6}\n",
      "El mensaje recibido es: {'num_aleatorio': 3}\n",
      "El mensaje recibido es: {'num_aleatorio': 3}\n",
      "El mensaje recibido es: {'num_aleatorio': 7}\n",
      "El mensaje recibido es: {'num_aleatorio': 4}\n",
      "El mensaje recibido es: {'num_aleatorio': 8}\n",
      "El mensaje recibido es: {'num_aleatorio': 7}\n",
      "El mensaje recibido es: {'num_aleatorio': 10}\n",
      "El mensaje recibido es: {'num_aleatorio': 5}\n",
      "El mensaje recibido es: {'num_aleatorio': 7}\n",
      "El mensaje recibido es: {'num_aleatorio': 4}\n",
      "El mensaje recibido es: {'num_aleatorio': 4}\n",
      "El mensaje recibido es: {'num_aleatorio': 5}\n",
      "El mensaje recibido es: {'num_aleatorio': 10}\n",
      "El mensaje recibido es: {'num_aleatorio': 1}\n",
      "El mensaje recibido es: {'num_aleatorio': 5}\n",
      "El mensaje recibido es: {'num_aleatorio': 5}\n",
      "El mensaje recibido es: {'num_aleatorio': 1}\n",
      "El mensaje recibido es: {'num_aleatorio': 4}\n",
      "El mensaje recibido es: {'num_aleatorio': 10}\n",
      "El mensaje recibido es: {'num_aleatorio': 10}\n",
      "El mensaje recibido es: {'num_aleatorio': 3}\n",
      "El mensaje recibido es: {'num_aleatorio': 8}\n",
      "El mensaje recibido es: {'num_aleatorio': 2}\n",
      "El mensaje recibido es: {'num_aleatorio': 2}\n",
      "El mensaje recibido es: {'num_aleatorio': 1}\n",
      "El mensaje recibido es: {'num_aleatorio': 8}\n",
      "El mensaje recibido es: {'num_aleatorio': 8}\n",
      "El mensaje recibido es: {'num_aleatorio': 10}\n",
      "El mensaje recibido es: {'num_aleatorio': 3}\n",
      "El mensaje recibido es: {'num_aleatorio': 6}\n",
      "El mensaje recibido es: {'num_aleatorio': 5}\n",
      "El mensaje recibido es: {'num_aleatorio': 7}\n",
      "No hay ningún mensaje\n",
      "No hay ningún mensaje\n",
      "No hay ningún mensaje\n",
      "No hay ningún mensaje\n",
      "No hay ningún mensaje\n",
      "No hay ningún mensaje\n",
      "No hay ningún mensaje\n"
     ]
    }
   ],
   "source": [
    "c = Consumer({'bootstrap.servers': 'localhost:9092', 'group.id': 'migrupo', 'auto.offset.reset': 'earliest'})\n",
    "c.subscribe(['testtopic'])\n",
    "\n",
    "data_consumer = []\n",
    "\n",
    "try:\n",
    "    while True:\n",
    "        msg = c.poll(1.0)\n",
    "        if msg is None:\n",
    "            print(\"No hay ningún mensaje\")\n",
    "            continue\n",
    "        if msg.error():\n",
    "            print('Error: {}'.format(msg.error()))\n",
    "            continue\n",
    "        print('El mensaje recibido es: {}'.format(msg.value().decode('utf-8')))\n",
    "        data_consumer.append(msg.value().decode('utf-8'))\n",
    "\n",
    "except KeyboardInterrupt:\n",
    "    pass\n",
    "finally:\n",
    "    c.close()"
   ]
  },
  {
   "cell_type": "markdown",
   "metadata": {},
   "source": [
    "Mostrar DataFrame"
   ]
  },
  {
   "cell_type": "code",
   "execution_count": 4,
   "metadata": {},
   "outputs": [
    {
     "name": "stdout",
     "output_type": "stream",
     "text": [
      "                           0\n",
      "count                    100\n",
      "unique                    10\n",
      "top     {'num_aleatorio': 5}\n",
      "freq                      14\n",
      "                        0\n",
      "0    {'num_aleatorio': 7}\n",
      "1    {'num_aleatorio': 8}\n",
      "2    {'num_aleatorio': 2}\n",
      "3    {'num_aleatorio': 6}\n",
      "4    {'num_aleatorio': 4}\n",
      "..                    ...\n",
      "95  {'num_aleatorio': 10}\n",
      "96   {'num_aleatorio': 3}\n",
      "97   {'num_aleatorio': 6}\n",
      "98   {'num_aleatorio': 5}\n",
      "99   {'num_aleatorio': 7}\n",
      "\n",
      "[100 rows x 1 columns]\n"
     ]
    }
   ],
   "source": [
    "df = pd.DataFrame(data_consumer)\n",
    "print(df.describe())\n",
    "print(df)"
   ]
  }
 ],
 "metadata": {
  "kernelspec": {
   "display_name": "segundoproyectokafka",
   "language": "python",
   "name": "python3"
  },
  "language_info": {
   "codemirror_mode": {
    "name": "ipython",
    "version": 3
   },
   "file_extension": ".py",
   "mimetype": "text/x-python",
   "name": "python",
   "nbconvert_exporter": "python",
   "pygments_lexer": "ipython3",
   "version": "3.13.0"
  }
 },
 "nbformat": 4,
 "nbformat_minor": 2
}
